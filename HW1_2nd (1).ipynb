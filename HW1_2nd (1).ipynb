{
 "cells": [
  {
   "cell_type": "code",
   "execution_count": 125,
   "metadata": {
    "collapsed": true
   },
   "outputs": [],
   "source": [
    "import numpy as np\n",
    "import matplotlib.pyplot as plt\n",
    "from sklearn import linear_model"
   ]
  },
  {
   "cell_type": "code",
   "execution_count": 126,
   "metadata": {},
   "outputs": [],
   "source": [
    "N=100 # Number of rows\n",
    "M=1 # Number of predictors\n",
    "\n",
    "#seed=17\n",
    "hats5=[]\n",
    "hats5 = np.reshape(hats5,(-1,1))\n",
    "hats15=[]\n",
    "hats15 = np.reshape(hats15,(-1,1))\n",
    "\n",
    "names=[]\n",
    "names.append(M)"
   ]
  },
  {
   "cell_type": "code",
   "execution_count": 127,
   "metadata": {},
   "outputs": [],
   "source": [
    "#generate new data and refit the model for multiple replicates\n",
    "Predicted5=[]\n",
    "Predicted15=[]\n",
    "for j in range(0, 50, 1): \n",
    "    X = np.random.uniform(0,10,100) # generate N rows and M columns of random normals\n",
    "    e = np.random.normal(0, 1, 100) # generate N rows of random error\n",
    "    X1 = X.reshape(-1, 1)\n",
    "    y =  5 - 2*X[:] + X[:]**2 + e[:]\n",
    "    y5=5-2*5+25\n",
    "    y15=5-2*15+15*15\n",
    "    y1 = y.reshape(-1,1)\n",
    "    modelnow=linear_model.LinearRegression()\n",
    "    modelnow.fit(X1,y1)\n",
    "    a=y5-modelnow.predict(5)\n",
    "    b=y15-modelnow.predict(15)\n",
    "    Predicted5=np.append(Predicted5,modelnow.predict(5))\n",
    "    Predicted15=np.append(Predicted15,modelnow.predict(15))\n",
    "    hats5=np.append(hats5,a,axis=0)\n",
    "    hats5.reshape(-1,1)\n",
    "    hats15=np.append(hats15,b,axis=0)\n",
    "    hats15.reshape(-1,1)\n",
    "   \n",
    "    #print(modelnow.predict(15))\n",
    "    #hats15.append(modelnow.predict(5))\n",
    "   \n",
    "    #print()\n",
    "    \n",
    "#print(hats5)\n",
    "#print()\n",
    "#print(hats15)\n",
    "#hats5.reshape(-1,1)\n",
    "#hats15.reshape(-1,1)\n",
    "#print(hats)\n",
    "#print(modelnow.predict(5))\n",
    "#modelnow.predict(15)"
   ]
  },
  {
   "cell_type": "code",
   "execution_count": 128,
   "metadata": {
    "collapsed": true
   },
   "outputs": [],
   "source": [
    "# a=np.append(hats5,hats15)\n",
    "# a.reshape(-1,2)\n",
    "# print(a)"
   ]
  },
  {
   "cell_type": "code",
   "execution_count": null,
   "metadata": {},
   "outputs": [],
   "source": []
  },
  {
   "cell_type": "code",
   "execution_count": 129,
   "metadata": {},
   "outputs": [],
   "source": [
    "Predicted52=[]\n",
    "Predicted152=[]\n",
    "hats52=[]\n",
    "hats52 = np.reshape(hats52,(-1,1))\n",
    "hats152=[]\n",
    "hats152 = np.reshape(hats152,(-1,1))\n",
    "for j in range(0, 50, 1): \n",
    "    X = np.random.uniform(0,10,100) # generate N rows and M columns of random normals\n",
    "    e = np.random.normal(0, 1, 100) # generate N rows of random error\n",
    "    X1 = X.reshape(-1, 1)\n",
    "    y =  5 - 2*X[:] + X[:]**2 + e[:]\n",
    "    y5=5-2*5+25\n",
    "    y15=5-2*15+15*15\n",
    "    y1 = y.reshape(-1,1)\n",
    "    x = np.array(X1)\n",
    "    #print(\"For polynomial order 2\")\n",
    "    def poly(x):\n",
    "        array = []\n",
    "        for i in range(1,3):\n",
    "            array.append(x**(i))\n",
    "        return array\n",
    "    a=poly(x)\n",
    "    #print(a) \n",
    "    X=np.array(a).reshape(-1,100)\n",
    "    X=np.matrix(X)\n",
    "    #print(X)\n",
    "    T=np.matrix.transpose(X)\n",
    "    #print(T)\n",
    "    np.reshape(T,(100,-1))\n",
    "    y1=np.matrix(y1).reshape(100,-1)\n",
    "    full=np.append(T,y1,axis=1)\n",
    "    X1=full[:,0:2]\n",
    "    Y1=full[:,2]\n",
    "    np.array(X1).reshape(100,2)\n",
    "    np.array(Y1).reshape(100,1)\n",
    "    #print(X1)\n",
    "    #print(Y1)\n",
    "    modelnow1=linear_model.LinearRegression()\n",
    "    modelnow1.fit(X1,Y1)\n",
    "    X5=np.array([5,25]).reshape(1,-1)\n",
    "    X15=np.array([15,225]).reshape(1,-1)\n",
    "    c=y5-modelnow1.predict(X5)\n",
    "    d=y15-modelnow1.predict(X15)\n",
    "    Predicted52=np.append(Predicted52,modelnow1.predict(X5))\n",
    "    Predicted152=np.append(Predicted152,modelnow1.predict(X15))\n",
    "    hats52=np.append(hats52,c,axis=0)\n",
    "    hats52.reshape(-1,1)\n",
    "    hats152=np.append(hats152,d,axis=0)\n",
    "    hats152.reshape(-1,1)\n",
    "    \n",
    "#print(hats52)\n",
    "#print()\n",
    "#print(hats152)\n"
   ]
  },
  {
   "cell_type": "code",
   "execution_count": 130,
   "metadata": {},
   "outputs": [],
   "source": [
    "Predicted55=[]\n",
    "Predicted155=[]\n",
    "hats55=[]\n",
    "hats55 = np.reshape(hats55,(-1,1))\n",
    "hats155=[]\n",
    "hats155 = np.reshape(hats155,(-1,1))\n",
    "for j in range(0, 50, 1): \n",
    "    X = np.random.uniform(0,10,100) # generate N rows and M columns of random normals\n",
    "    e = np.random.normal(0, 1, 100) # generate N rows of random error\n",
    "    X1 = X.reshape(-1, 1)\n",
    "    y =  5 - 2*X[:] + X[:]**2 + e[:]\n",
    "    y5=5-2*5+25\n",
    "    y15=5-2*15+15*15\n",
    "    y1 = y.reshape(-1,1)\n",
    "    x = np.array(X1)\n",
    "    #print(\"For polynomial order 2\")\n",
    "    def poly(x):\n",
    "        array = []\n",
    "        for i in range(1,6):\n",
    "            array.append(x**(i))\n",
    "        return array\n",
    "    a=poly(x)\n",
    "    #print(a) \n",
    "    X=np.array(a).reshape(-1,100)\n",
    "    X=np.matrix(X)\n",
    "    #print(X)\n",
    "    T=np.matrix.transpose(X)\n",
    "    #print(T)\n",
    "    np.reshape(T,(100,-1))\n",
    "    y1=np.matrix(y1).reshape(100,-1)\n",
    "    full=np.append(T,y1,axis=1)\n",
    "    X2=full[:,0:5]\n",
    "    Y2=full[:,5]\n",
    "    np.array(X2).reshape(100,5)\n",
    "    np.array(Y2).reshape(100,1)\n",
    "    #print(X1)\n",
    "    #print(Y1)\n",
    "    modelnow2=linear_model.LinearRegression()\n",
    "    modelnow2.fit(X2,Y2)\n",
    "    X5=np.array([5,25,125,625,3125]).reshape(1,-1)\n",
    "    X15=np.array([15,225,15*15*15,15*15*15*15,15*15*15*15*15]).reshape(1,-1)\n",
    "    c=y5-modelnow2.predict(X5)\n",
    "    d=y15-modelnow2.predict(X15)\n",
    "    Predicted55=np.append(Predicted55,modelnow2.predict(X5))\n",
    "    Predicted155=np.append(Predicted155,modelnow2.predict(X15))\n",
    "    hats55=np.append(hats55,c,axis=0)\n",
    "    hats55.reshape(-1,1)\n",
    "    hats155=np.append(hats155,d,axis=0)\n",
    "    hats155.reshape(-1,1)\n",
    "    \n",
    "#print(hats55)\n",
    "#print()\n",
    "#print(hats155)\n"
   ]
  },
  {
   "cell_type": "code",
   "execution_count": 165,
   "metadata": {},
   "outputs": [
    {
     "data": {
      "image/png": "[encoded data removed]",
      "text/plain": [
       "<matplotlib.figure.Figure at 0x24ccad13860>"
      ]
     },
     "metadata": {},
     "output_type": "display_data"
    }
   ],
   "source": [
    "fig = plt.figure(figsize=(10,10))\n",
    "import seaborn as sns\n",
    "fig.suptitle('Box plot')\n",
    "\n",
    "\n",
    "plt.boxplot(hats5,widths=0.1)\n",
    "plt.boxplot(hats52,widths=0.2)\n",
    "plt.boxplot(hats55,widths=0.5)\n",
    "\n",
    "\n",
    "#ax.set_xticklabels(names)\n",
    "plt.show()"
   ]
  },
  {
   "cell_type": "code",
   "execution_count": 166,
   "metadata": {},
   "outputs": [
    {
     "data": {
      "image/png": "[encoded data removed]",
      "text/plain": [
       "<matplotlib.figure.Figure at 0x24ccbf68f98>"
      ]
     },
     "metadata": {},
     "output_type": "display_data"
    }
   ],
   "source": [
    "fig = plt.figure(figsize=(10,10))\n",
    "import seaborn as sns\n",
    "fig.suptitle('Box plot')\n",
    "\n",
    "plt.boxplot(hats15,widths=.1)\n",
    "plt.boxplot(hats152,widths=.2)\n",
    "plt.boxplot(hats155,widths=.5)\n",
    "\n",
    "plt.show()"
   ]
  },
  {
   "cell_type": "code",
   "execution_count": 145,
   "metadata": {},
   "outputs": [
    {
     "name": "stdout",
     "output_type": "stream",
     "text": [
      "Bias of Y for x =5 for poynomial degree 1 = -8.19815449631\n",
      "Bias of Y for x =5 for poynomial degree 2 = -0.0233881387076\n",
      "Bias of Y for x =5 for poynomial degree 5 = 0.0198476505178\n",
      "Bias of Y for x =15 for poynomial degree 1 = 91.9570857068\n",
      "Bias of Y for x =15 for poynomial degree 2 = 0.453673233123\n",
      "Bias of Y for x =15 for poynomial degree 5 = -4.7523118612\n"
     ]
    }
   ],
   "source": [
    "print(\"Bias of Y for x =5 for poynomial degree 1 = \" + str((y5-np.mean(Predicted5))))\n",
    "print(\"Bias of Y for x =5 for poynomial degree 2 = \"+str((y5-np.mean(Predicted52))))\n",
    "print('Bias of Y for x =5 for poynomial degree 5 = '+str((y5-np.mean(Predicted55))))\n",
    "print('Bias of Y for x =15 for poynomial degree 1 = '+str((y15-np.mean(Predicted15))))\n",
    "print('Bias of Y for x =15 for poynomial degree 2 = '+str((y15-np.mean(Predicted152))))\n",
    "print('Bias of Y for x =15 for poynomial degree 5 = '+str((y15-np.mean(Predicted155))))"
   ]
  },
  {
   "cell_type": "code",
   "execution_count": 147,
   "metadata": {},
   "outputs": [
    {
     "name": "stdout",
     "output_type": "stream",
     "text": [
      "Variance of Y for x =5 for poynomial degree 1 = 0.474264649266\n",
      "Variance of Y for x =5 for poynomial degree 2 = 0.0227150911226\n",
      "Variance of Y for x =5 for poynomial degree 5 = 0.042097586163\n",
      "Variance of Y for x =15 for poynomial degree 1 = 10.5179382259\n",
      "Variance of Y for x =15 for poynomial degree 2 = 1.31944371368\n",
      "Variance of Y for x =15 for poynomial degree 5 = 3869.54797134\n"
     ]
    }
   ],
   "source": [
    "print('Variance of Y for x =5 for poynomial degree 1 = '+str(np.var(Predicted5)))\n",
    "print('Variance of Y for x =5 for poynomial degree 2 = '+str(np.var(Predicted52)))\n",
    "print('Variance of Y for x =5 for poynomial degree 5 = '+str(np.var(Predicted55)))\n",
    "print('Variance of Y for x =15 for poynomial degree 1 = '+str(np.var(Predicted15)))\n",
    "print('Variance of Y for x =15 for poynomial degree 2 = '+str(np.var(Predicted152)))\n",
    "print('Variance of Y for x =15 for poynomial degree 5 = '+str(np.var(Predicted155)))"
   ]
  },
  {
   "cell_type": "code",
   "execution_count": null,
   "metadata": {},
   "outputs": [],
   "source": []
  },
  {
   "cell_type": "code",
   "execution_count": null,
   "metadata": {
    "collapsed": true
   },
   "outputs": [],
   "source": []
  }
 ],
 "metadata": {
  "kernelspec": {
   "display_name": "Python 3",
   "language": "python",
   "name": "python3"
  },
  "language_info": {
   "codemirror_mode": {
    "name": "ipython",
    "version": 3
   },
   "file_extension": ".py",
   "mimetype": "text/x-python",
   "name": "python",
   "nbconvert_exporter": "python",
   "pygments_lexer": "ipython3",
   "version": "3.6.3"
  }
 },
 "nbformat": 4,
 "nbformat_minor": 2
}
